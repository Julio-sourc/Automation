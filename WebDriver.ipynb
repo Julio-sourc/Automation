{
  "nbformat": 4,
  "nbformat_minor": 0,
  "metadata": {
    "colab": {
      "name": "WebDriver.ipynb",
      "provenance": [],
      "authorship_tag": "ABX9TyOfZjwNlMdQbd+lvJJr6l5R",
      "include_colab_link": true
    },
    "kernelspec": {
      "name": "python3",
      "display_name": "Python 3"
    },
    "language_info": {
      "name": "python"
    }
  },
  "cells": [
    {
      "cell_type": "markdown",
      "metadata": {
        "id": "view-in-github",
        "colab_type": "text"
      },
      "source": [
        "<a href=\"https://colab.research.google.com/github/Julio-sourc/Automation/blob/main/WebDriver.ipynb\" target=\"_parent\"><img src=\"https://colab.research.google.com/assets/colab-badge.svg\" alt=\"Open In Colab\"/></a>"
      ]
    },
    {
      "cell_type": "code",
      "execution_count": null,
      "metadata": {
        "id": "fbFeaDZX4b2p"
      },
      "outputs": [],
      "source": [
        "from selenium import webdriver\n",
        "from selenium.webdriver.common.keys import Keys\n",
        "\n",
        "driver = webdriver.Chrome()\n",
        "driver.get('https://1xbet.whoscored.com/Statistics')\n",
        "element = driver.find_element_by_xpath('//*[@id=\"statistics-team-table-summary\"]')\n",
        "print(element.text)\n",
        "element = driver.find_element_by_xpath('//*[@id=\"popular-tournaments-list\"]/li[9]/a').click()#brasileirão\n",
        "element = driver.find_element_by_xpath('//*[@id=\"standings-20566\"]/div[2]')# Info Brasileirão\n",
        "print(element.text)\n",
        "element = driver.find_element_by_id('search-box')\n",
        "element.send_keys('Real Madrid')\n",
        "element = driver.find_element_by_id('search-button').click()\n",
        "element = driver.find_element_by_xpath('//*[@id=\"layout-wrapper\"]/div[3]/div[1]/div[2]/table/tbody/tr[2]/td[1]/a').click()\n",
        "element = driver.find_element_by_xpath('//*[@id=\"team-squad-stats-options\"]/li[3]/a').click()\n",
        "element = driver.find_element_by_xpath('//*[@id=\"statistics-table-offensive\"]')\n",
        "print(element.text)\n",
        "driver.quit()"
      ]
    }
  ]
}